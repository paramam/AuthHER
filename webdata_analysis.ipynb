{
 "cells": [
  {
   "cell_type": "markdown",
   "metadata": {},
   "source": [
    "# Time evolution plots using US Dept of Ed data"
   ]
  },
  {
   "cell_type": "code",
   "execution_count": 1,
   "metadata": {
    "collapsed": true
   },
   "outputs": [],
   "source": [
    "## Python packages - \n",
    "from sqlalchemy import create_engine\n",
    "from sqlalchemy_utils import database_exists, create_database\n",
    "import psycopg2\n",
    "import pandas as pd\n",
    "import matplotlib.pyplot as plt\n",
    "%matplotlib inline\n",
    "pd.set_option('notebook_repr_html',False)"
   ]
  },
  {
   "cell_type": "code",
   "execution_count": 2,
   "metadata": {
    "collapsed": true
   },
   "outputs": [],
   "source": [
    "#In Python: Define a database name \n",
    "dbname = 'opensyl'\n",
    "username = 'parama'"
   ]
  },
  {
   "cell_type": "code",
   "execution_count": 3,
   "metadata": {
    "collapsed": false
   },
   "outputs": [
    {
     "name": "stdout",
     "output_type": "stream",
     "text": [
      "postgres://parama@localhost/opensyl\n"
     ]
    }
   ],
   "source": [
    "## 'engine' is a connection to a database\n",
    "## Here, we're using postgres, but sqlalchemy can connect to other things too.\n",
    "engine = create_engine('postgres://%s@localhost/%s'%(username,dbname))\n",
    "print engine.url"
   ]
  },
  {
   "cell_type": "code",
   "execution_count": 4,
   "metadata": {
    "collapsed": true
   },
   "outputs": [],
   "source": [
    "# connect:\n",
    "try:\n",
    "    con = psycopg2.connect(database = 'opensyl', user = 'parama' , password = 'pargop')\n",
    "except:\n",
    "    print 'Unable to connect!'\n",
    "    "
   ]
  },
  {
   "cell_type": "raw",
   "metadata": {
    "collapsed": true
   },
   "source": [
    "TABLE CONTENT INFORMATION\n",
    "\n",
    "citation             : text_id;         document_id; \n",
    "institution          : id;              name;          state;      country;\n",
    "institution_document : institution_id;  document_id;\n",
    "field                : id;              name;\n",
    "subfield             : id;              name;          field_id;\n",
    "subfield_document    : subfield_id;     document_id;\n",
    "gender_info          : text_id;         gender;\n",
    "text                 : text_id;         title;         surname;    authors;   publisher;  date;  journal_title; "
   ]
  },
  {
   "cell_type": "code",
   "execution_count": 5,
   "metadata": {
    "collapsed": true
   },
   "outputs": [],
   "source": [
    "grad_student = pd.read_csv(\"top50univs.csv\",names=['inst_name'])"
   ]
  },
  {
   "cell_type": "code",
   "execution_count": 6,
   "metadata": {
    "collapsed": true
   },
   "outputs": [],
   "source": [
    "grad_student.to_sql('top_schoolnames', engine)"
   ]
  },
  {
   "cell_type": "code",
   "execution_count": 6,
   "metadata": {
    "collapsed": false
   },
   "outputs": [],
   "source": [
    "grad_student = pd.read_csv(\"gradstudent.csv\",names=['fclass','name','year','gender','ncount'])"
   ]
  },
  {
   "cell_type": "code",
   "execution_count": 8,
   "metadata": {
    "collapsed": false
   },
   "outputs": [
    {
     "data": {
      "text/plain": [
       "   fclass                                   name  year  gender  ncount\n",
       "0     4.0  Architecture and Environmental Design  1966    Male       5\n",
       "1     4.0  Architecture and Environmental Design  1967    Male       4\n",
       "2     4.0  Architecture and Environmental Design  1968    Male       4\n",
       "3     4.0  Architecture and Environmental Design  1983  Female       5\n",
       "4     4.0  Architecture and Environmental Design  1983    Male      29"
      ]
     },
     "execution_count": 8,
     "metadata": {},
     "output_type": "execute_result"
    }
   ],
   "source": [
    "grad_student.head(5)"
   ]
  },
  {
   "cell_type": "code",
   "execution_count": 165,
   "metadata": {
    "collapsed": true
   },
   "outputs": [],
   "source": [
    "new = grad_student[grad_student.gender != 'Unknown Gender']"
   ]
  },
  {
   "cell_type": "code",
   "execution_count": 9,
   "metadata": {
    "collapsed": false
   },
   "outputs": [
    {
     "data": {
      "text/plain": [
       "(1784, 5)"
      ]
     },
     "execution_count": 9,
     "metadata": {},
     "output_type": "execute_result"
    }
   ],
   "source": [
    "grad_student.shape"
   ]
  },
  {
   "cell_type": "code",
   "execution_count": 13,
   "metadata": {
    "collapsed": false
   },
   "outputs": [
    {
     "data": {
      "text/plain": [
       "(1583,)"
      ]
     },
     "execution_count": 13,
     "metadata": {},
     "output_type": "execute_result"
    }
   ],
   "source": [
    "new.gender.shape"
   ]
  },
  {
   "cell_type": "code",
   "execution_count": 166,
   "metadata": {
    "collapsed": false
   },
   "outputs": [],
   "source": [
    "#workmat = new.drop('name',1)\n",
    "workmat = new"
   ]
  },
  {
   "cell_type": "code",
   "execution_count": 22,
   "metadata": {
    "collapsed": false
   },
   "outputs": [
    {
     "data": {
      "text/plain": [
       "    fclass  year  fcount\n",
       "3      3.0  1983       5\n",
       "5      3.0  1984       3\n",
       "7      3.0  1985      12\n",
       "9      3.0  1986       4\n",
       "11     3.0  1987       6"
      ]
     },
     "execution_count": 22,
     "metadata": {},
     "output_type": "execute_result"
    }
   ],
   "source": [
    "girl.head()"
   ]
  },
  {
   "cell_type": "code",
   "execution_count": 167,
   "metadata": {
    "collapsed": true
   },
   "outputs": [],
   "source": [
    "boy = workmat[workmat.gender=='Male'].rename(columns={'ncount':'mcount'})\n",
    "girl = workmat[workmat.gender=='Female'].rename(columns={'ncount':'fcount'})"
   ]
  },
  {
   "cell_type": "code",
   "execution_count": 168,
   "metadata": {
    "collapsed": true
   },
   "outputs": [],
   "source": [
    "boy = boy.drop('gender',1)\n",
    "girl = girl.drop('gender',1)"
   ]
  },
  {
   "cell_type": "code",
   "execution_count": 169,
   "metadata": {
    "collapsed": false
   },
   "outputs": [],
   "source": [
    "combine = pd.merge(left=boy,right=girl, left_on=('fclass','year','name') ,right_on=('fclass','year','name'))\n"
   ]
  },
  {
   "cell_type": "code",
   "execution_count": 147,
   "metadata": {
    "collapsed": false
   },
   "outputs": [
    {
     "data": {
      "text/plain": [
       "   fclass                                   name  year  mcount  fcount\n",
       "0     4.0  Architecture and Environmental Design  1983      29       5\n",
       "1     4.0  Architecture and Environmental Design  1984      22       3\n",
       "2     4.0  Architecture and Environmental Design  1985      24      12\n",
       "3     4.0  Architecture and Environmental Design  1986      23       4\n",
       "4     4.0  Architecture and Environmental Design  1987      27       6"
      ]
     },
     "execution_count": 147,
     "metadata": {},
     "output_type": "execute_result"
    }
   ],
   "source": [
    "combine.head()"
   ]
  },
  {
   "cell_type": "code",
   "execution_count": 170,
   "metadata": {
    "collapsed": false
   },
   "outputs": [],
   "source": [
    "combine['ratio'] = combine.fcount/combine.mcount"
   ]
  },
  {
   "cell_type": "code",
   "execution_count": 171,
   "metadata": {
    "collapsed": false
   },
   "outputs": [],
   "source": [
    "socsc = combine[combine.fclass==1.0].drop('fclass',1)\n",
    "physc = combine[combine.fclass==2.0].drop('fclass',1)\n",
    "engg = combine[combine.fclass==3.0].drop('fclass',1)\n",
    "proff = combine[combine.fclass==4.0].drop('fclass',1)\n",
    "human = combine[combine.fclass==5.0].drop('fclass',1)"
   ]
  },
  {
   "cell_type": "code",
   "execution_count": 150,
   "metadata": {
    "collapsed": false
   },
   "outputs": [
    {
     "data": {
      "text/plain": [
       "           name  year  mcount  fcount     ratio\n",
       "511  Psychology  1966     894     245  0.274049\n",
       "512  Psychology  1967    1030     265  0.257282\n",
       "513  Psychology  1968    1131     333  0.294430\n",
       "514  Psychology  1969    1350     416  0.308148\n",
       "515  Psychology  1970    1446     444  0.307054"
      ]
     },
     "execution_count": 150,
     "metadata": {},
     "output_type": "execute_result"
    }
   ],
   "source": [
    "socsc.head()"
   ]
  },
  {
   "cell_type": "code",
   "execution_count": 123,
   "metadata": {
    "collapsed": false
   },
   "outputs": [
    {
     "data": {
      "text/plain": [
       "          name  year  mcount  fcount     ratio\n",
       "165  Education  1984    3337    3471  1.040156\n",
       "166  Education  1985    3242    3491  1.076804\n",
       "167  Education  1986    3036    3613  1.190053\n",
       "168  Education  1987    2896    3557  1.228246\n",
       "169  Education  1988    2847    3514  1.234282\n",
       "170  Education  1989    2670    3610  1.352060\n",
       "171  Education  1990    2758    3751  1.360044\n",
       "172  Education  1991    2696    3748  1.390208\n",
       "173  Education  1992    2688    3976  1.479167\n",
       "174  Education  1993    2748    3921  1.426856\n",
       "175  Education  1994    2612    4090  1.565850\n",
       "176  Education  1995    2546    4092  1.607227\n",
       "177  Education  1996    2579    4187  1.623497\n",
       "178  Education  1997    2394    4123  1.722222\n",
       "179  Education  1998    2421    4131  1.706320\n",
       "180  Education  1999    2339    4199  1.795212\n",
       "181  Education  2000    2260    4179  1.849115\n",
       "182  Education  2001    2251    4100  1.821413\n",
       "183  Education  2002    2196    4299  1.957650\n",
       "184  Education  2003    2256    4395  1.948138"
      ]
     },
     "execution_count": 123,
     "metadata": {},
     "output_type": "execute_result"
    }
   ],
   "source": [
    "proff[120:120]"
   ]
  },
  {
   "cell_type": "markdown",
   "metadata": {},
   "source": [
    "# sample code\n",
    "def get_max_record(group):\n",
    "    return group.ix[group.prop.idxmax()]\n",
    "\n",
    "result = boys.groupby('year').apply(get_max_record)\n",
    "\n",
    "boys.groupby('name')['prop'].mean()"
   ]
  },
  {
   "cell_type": "code",
   "execution_count": 72,
   "metadata": {
    "collapsed": true
   },
   "outputs": [],
   "source": [
    "import numpy as np\n",
    "%matplotlib inline"
   ]
  },
  {
   "cell_type": "code",
   "execution_count": 172,
   "metadata": {
    "collapsed": true
   },
   "outputs": [],
   "source": [
    "y1 = np.array(socsc.groupby('year')['ratio'].mean())\n",
    "y2 = np.array(physc.groupby('year')['ratio'].mean())\n",
    "y3 = np.array(engg.groupby('year')['ratio'].mean())\n",
    "y4 = np.array(proff.groupby('year')['ratio'].mean())\n",
    "y5 = np.array(human.groupby('year')['ratio'].mean())"
   ]
  },
  {
   "cell_type": "code",
   "execution_count": 173,
   "metadata": {
    "collapsed": false
   },
   "outputs": [],
   "source": [
    "x = []\n",
    "for egroup in combine.groupby('year'):\n",
    "    x.append(egroup[0])"
   ]
  },
  {
   "cell_type": "code",
   "execution_count": 174,
   "metadata": {
    "collapsed": false
   },
   "outputs": [
    {
     "data": {
      "text/plain": [
       "(41, 41)"
      ]
     },
     "execution_count": 174,
     "metadata": {},
     "output_type": "execute_result"
    }
   ],
   "source": [
    "len(x),len(y1)"
   ]
  },
  {
   "cell_type": "code",
   "execution_count": 73,
   "metadata": {
    "collapsed": true
   },
   "outputs": [],
   "source": [
    "from scipy.signal import savgol_filter\n",
    "plt.plot(x, savgol_filter(y1,25,5))"
   ]
  },
  {
   "cell_type": "code",
   "execution_count": 175,
   "metadata": {
    "collapsed": false
   },
   "outputs": [
    {
     "data": {
      "image/png": "[encoded data removed]",
      "text/plain": [
       "<matplotlib.figure.Figure at 0x7fea00b31950>"
      ]
     },
     "metadata": {},
     "output_type": "display_data"
    }
   ],
   "source": [
    "fig = plt.figure()\n",
    "plt.gca().set_color_cycle(['red', 'green', 'blue', 'yellow', 'black'])\n",
    "\n",
    "plt.plot(x, y1)\n",
    "plt.plot(x, y2)\n",
    "plt.plot(x, y3)\n",
    "plt.plot(x, y4)\n",
    "plt.plot(x, y5)\n",
    "\n",
    "plt.xlabel('Years')\n",
    "plt.ylabel('Female_to_Male Ratio')\n",
    "plt.title('Evolution of Graduates(PhD) Gender Ratio')\n",
    "\n",
    "plt.legend(['Social Sciences', 'Physical Sciences', 'Engineering', 'Professional', 'Humanities'], loc='upper left')\n",
    "\n",
    "fig.savefig('timeline_3.png')"
   ]
  },
  {
   "cell_type": "code",
   "execution_count": null,
   "metadata": {
    "collapsed": true
   },
   "outputs": [],
   "source": [
    "df = pandas.read_excel(open('your_xls_xlsx_filename','rb'), sheetname='Sheet 1')"
   ]
  },
  {
   "cell_type": "code",
   "execution_count": 12,
   "metadata": {
    "collapsed": false
   },
   "outputs": [
    {
     "data": {
      "text/plain": [
       "   year    male  female   ninst\n",
       "0  1900   19151    4717   977.0\n",
       "1  1910   29132    7348   951.0\n",
       "2  1920   35807   12808  1041.0\n",
       "3  1930   60017   22369  1409.0\n",
       "4  1940  106328   40601  1708.0"
      ]
     },
     "execution_count": 12,
     "metadata": {},
     "output_type": "execute_result"
    }
   ],
   "source": [
    "faculty.head()"
   ]
  },
  {
   "cell_type": "code",
   "execution_count": 11,
   "metadata": {
    "collapsed": false
   },
   "outputs": [],
   "source": [
    "faculty = pd.read_csv(\"faculty_data.csv\")"
   ]
  },
  {
   "cell_type": "code",
   "execution_count": 13,
   "metadata": {
    "collapsed": false
   },
   "outputs": [],
   "source": [
    "y= faculty.female/faculty.male\n",
    "x = faculty.year"
   ]
  },
  {
   "cell_type": "code",
   "execution_count": 14,
   "metadata": {
    "collapsed": false
   },
   "outputs": [
    {
     "data": {
      "text/plain": [
       "pandas.core.series.Series"
      ]
     },
     "execution_count": 14,
     "metadata": {},
     "output_type": "execute_result"
    }
   ],
   "source": [
    "type(y)"
   ]
  },
  {
   "cell_type": "code",
   "execution_count": 154,
   "metadata": {
    "collapsed": false
   },
   "outputs": [
    {
     "data": {
      "text/plain": [
       "0     0.136280\n",
       "1     0.572325\n",
       "2     0.244411\n",
       "3     0.246306\n",
       "4     0.252231\n",
       "5     0.357695\n",
       "6     0.372711\n",
       "7     0.381847\n",
       "8     0.325116\n",
       "9     0.282307\n",
       "10    0.300578\n",
       "11    0.409186\n",
       "12    0.542749\n",
       "13    0.706030\n",
       "14    0.891035\n",
       "15    0.951271\n",
       "dtype: float64"
      ]
     },
     "execution_count": 154,
     "metadata": {},
     "output_type": "execute_result"
    }
   ],
   "source": [
    "y"
   ]
  },
  {
   "cell_type": "code",
   "execution_count": 15,
   "metadata": {
    "collapsed": false
   },
   "outputs": [
    {
     "data": {
      "image/png": "[encoded data removed]",
      "text/plain": [
       "<matplotlib.figure.Figure at 0x7fb46e9925d0>"
      ]
     },
     "metadata": {},
     "output_type": "display_data"
    }
   ],
   "source": [
    "fig = plt.figure()\n",
    "#plt.gca().set_color_cycle(['red', 'green', 'blue', 'yellow', 'black'])\n",
    "\n",
    "plt.plot(x, y)\n",
    "\n",
    "\n",
    "plt.xlabel('Years')\n",
    "plt.ylabel('Female_to_Male Ratio')\n",
    "plt.title('Evolution of Faculty Gender Ratio')\n",
    "\n",
    "fig.savefig('timeline_3.png')"
   ]
  },
  {
   "cell_type": "code",
   "execution_count": 16,
   "metadata": {
    "collapsed": true
   },
   "outputs": [],
   "source": [
    "gradr = pd.read_csv(\"graduation_rates.csv\",names=['year','bachelors','masters','phd'])"
   ]
  },
  {
   "cell_type": "code",
   "execution_count": 17,
   "metadata": {
    "collapsed": false
   },
   "outputs": [],
   "source": [
    "gradr.bachelors = gradr.bachelors/(100-gradr.bachelors)\n",
    "gradr.masters = gradr.masters/(100-gradr.masters)\n",
    "gradr.phd = gradr.phd/(100-gradr.phd)\n"
   ]
  },
  {
   "cell_type": "code",
   "execution_count": 18,
   "metadata": {
    "collapsed": false
   },
   "outputs": [
    {
     "name": "stderr",
     "output_type": "stream",
     "text": [
      "/home/parama/anaconda2/lib/python2.7/site-packages/matplotlib/cbook.py:137: MatplotlibDeprecationWarning: The set_color_cycle attribute was deprecated in version 1.5. Use set_prop_cycle instead.\n",
      "  warnings.warn(message, mplDeprecation, stacklevel=1)\n"
     ]
    },
    {
     "data": {
      "image/png": "[encoded data removed]",
      "text/plain": [
       "<matplotlib.figure.Figure at 0x7fb46c52f590>"
      ]
     },
     "metadata": {},
     "output_type": "display_data"
    }
   ],
   "source": [
    "fig = plt.figure()\n",
    "plt.gca().set_color_cycle(['red', 'blue', 'green', 'black'])\n",
    "\n",
    "plt.plot(gradr.year, gradr.bachelors)\n",
    "plt.plot(gradr.year, gradr.masters)\n",
    "plt.plot(gradr.year, gradr.phd)\n",
    "plt.plot(x, y)\n",
    "\n",
    "plt.xlabel('Years')\n",
    "plt.ylabel('Female_to_Male Ratio')\n",
    "plt.title('Evolving Gender Ratio')\n",
    "\n",
    "plt.legend(['Bachelors', 'Masters', 'PhDs','Faculty'], loc='upper left')\n",
    "\n",
    "fig.savefig('timeline_2.png')"
   ]
  },
  {
   "cell_type": "code",
   "execution_count": 19,
   "metadata": {
    "collapsed": false
   },
   "outputs": [
    {
     "data": {
      "text/plain": [
       "   year  bachelors   masters       phd\n",
       "0  1880   0.239157  0.013171  0.059322\n",
       "1  1890   0.209190  0.236094  0.013171\n",
       "2  1900   0.236094  0.236094  0.063830\n",
       "3  1910   0.293661  0.358696  0.109878\n",
       "4  1920   0.519757  0.432665  0.177856"
      ]
     },
     "execution_count": 19,
     "metadata": {},
     "output_type": "execute_result"
    }
   ],
   "source": [
    "gradr.head()"
   ]
  },
  {
   "cell_type": "code",
   "execution_count": 20,
   "metadata": {
    "collapsed": false
   },
   "outputs": [
    {
     "data": {
      "text/plain": [
       "   year    male  female   ninst\n",
       "0  1900   19151    4717   977.0\n",
       "1  1910   29132    7348   951.0\n",
       "2  1920   35807   12808  1041.0\n",
       "3  1930   60017   22369  1409.0\n",
       "4  1940  106328   40601  1708.0"
      ]
     },
     "execution_count": 20,
     "metadata": {},
     "output_type": "execute_result"
    }
   ],
   "source": [
    "faculty.head()"
   ]
  },
  {
   "cell_type": "code",
   "execution_count": 21,
   "metadata": {
    "collapsed": false
   },
   "outputs": [
    {
     "data": {
      "text/plain": [
       "(0     1900\n",
       " 1     1910\n",
       " 2     1920\n",
       " 3     1930\n",
       " 4     1940\n",
       " 5     1950\n",
       " 6     1960\n",
       " 7     1970\n",
       " 8     1980\n",
       " 9     1987\n",
       " 10    1989\n",
       " 11    1990\n",
       " 12    1991\n",
       " 13    1993\n",
       " 14    1995\n",
       " 15    1997\n",
       " 16    1999\n",
       " 17    2000\n",
       " 18    2001\n",
       " 19    2003\n",
       " 20    2005\n",
       " 21    2007\n",
       " 22    2009\n",
       " 23    2010\n",
       " 24    2011\n",
       " 25    2013\n",
       " 26    2014\n",
       " Name: year, dtype: int64, 0     0.246306\n",
       " 1     0.252231\n",
       " 2     0.357695\n",
       " 3     0.372711\n",
       " 4     0.381847\n",
       " 5     0.325116\n",
       " 6     0.282307\n",
       " 7     0.300578\n",
       " 8     0.409186\n",
       " 9     0.498018\n",
       " 10    0.542749\n",
       " 11    0.542749\n",
       " 12    0.572020\n",
       " 13    0.631503\n",
       " 14    0.655210\n",
       " 15    0.685018\n",
       " 16    0.706030\n",
       " 17    0.706030\n",
       " 18    0.727167\n",
       " 19    0.768197\n",
       " 20    0.806173\n",
       " 21    0.843732\n",
       " 22    0.891025\n",
       " 23    0.891035\n",
       " 24    0.930766\n",
       " 25    0.951310\n",
       " 26    0.951271\n",
       " dtype: float64)"
      ]
     },
     "execution_count": 21,
     "metadata": {},
     "output_type": "execute_result"
    }
   ],
   "source": [
    "x,y"
   ]
  },
  {
   "cell_type": "code",
   "execution_count": null,
   "metadata": {
    "collapsed": true
   },
   "outputs": [],
   "source": []
  }
 ],
 "metadata": {
  "kernelspec": {
   "display_name": "Python 2",
   "language": "python",
   "name": "python2"
  },
  "language_info": {
   "codemirror_mode": {
    "name": "ipython",
    "version": 2
   },
   "file_extension": ".py",
   "mimetype": "text/x-python",
   "name": "python",
   "nbconvert_exporter": "python",
   "pygments_lexer": "ipython2",
   "version": "2.7.11"
  }
 },
 "nbformat": 4,
 "nbformat_minor": 0
}
