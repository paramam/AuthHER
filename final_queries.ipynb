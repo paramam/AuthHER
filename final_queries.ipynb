{
 "cells": [
  {
   "cell_type": "code",
   "execution_count": 1,
   "metadata": {
    "collapsed": false
   },
   "outputs": [],
   "source": [
    "from sqlalchemy import create_engine\n",
    "from sqlalchemy_utils import database_exists, create_database\n",
    "import psycopg2\n",
    "import pandas as pd\n",
    "import numpy as np\n",
    "pd.set_option('notebook_repr_html',False)\n"
   ]
  },
  {
   "cell_type": "code",
   "execution_count": 2,
   "metadata": {
    "collapsed": true
   },
   "outputs": [],
   "source": [
    "#In Python: Define a database name (we're using a dataset on births, so I call it \n",
    "# birth_db), and your username for your computer (CHANGE IT BELOW). \n",
    "dbname = 'opensyl'\n",
    "username = 'parama'"
   ]
  },
  {
   "cell_type": "code",
   "execution_count": 3,
   "metadata": {
    "collapsed": false
   },
   "outputs": [
    {
     "name": "stdout",
     "output_type": "stream",
     "text": [
      "postgres://parama@localhost/opensyl\n"
     ]
    }
   ],
   "source": [
    "## 'engine' is a connection to a database\n",
    "## Here, we're using postgres, but sqlalchemy can connect to other things too.\n",
    "engine = create_engine('postgres://%s@localhost/%s'%(username,dbname))\n",
    "print engine.url"
   ]
  },
  {
   "cell_type": "code",
   "execution_count": 4,
   "metadata": {
    "collapsed": true
   },
   "outputs": [],
   "source": [
    "try:\n",
    "    conn = psycopg2.connect(database = 'opensyl', user = 'parama' , password = 'pargop')\n",
    "except:\n",
    "    print 'Unable to con hon'"
   ]
  },
  {
   "cell_type": "code",
   "execution_count": 10,
   "metadata": {
    "collapsed": true
   },
   "outputs": [],
   "source": [
    "sql_query = \"\"\"\n",
    "select fdclass, field,sum(mcount) as males, sum(fcount) as females from all_info group by fdclass,field order by fdclass,field \n",
    "\"\"\"\n",
    "workmat = pd.read_sql_query(sql_query,conn)"
   ]
  },
  {
   "cell_type": "code",
   "execution_count": 11,
   "metadata": {
    "collapsed": false
   },
   "outputs": [],
   "source": [
    "workmat['ratio']=workmat.females/workmat.males\n"
   ]
  },
  {
   "cell_type": "code",
   "execution_count": 12,
   "metadata": {
    "collapsed": false
   },
   "outputs": [
    {
     "data": {
      "text/plain": [
       "    fdclass                              field     males  females     ratio\n",
       "0         1                       Anthropology   45963.0  13646.0  0.296891\n",
       "1         1            Area and Ethnic Studies   45589.0  12491.0  0.273992\n",
       "2         1                          Economics   48584.0   9512.0  0.195785\n",
       "3         1                           Politics   33027.0   7439.0  0.225240\n",
       "4         1                         Psychology   11440.0   3693.0  0.322815\n",
       "5         1                  Religious Studies    2017.0    597.0  0.295984\n",
       "6         1                          Sociology   33617.0  11330.0  0.337032\n",
       "7         1   Theology and Religious Education     372.0     80.0  0.215054\n",
       "8         1                    Women's Studies     488.0    526.0  1.077869\n",
       "9         2         Astronomy and Astrophysics    2378.0    493.0  0.207317\n",
       "10        2                            Biology   64302.0  14618.0  0.227334\n",
       "11        2                          Chemistry    1833.0    438.0  0.238953\n",
       "12        2                     Earth Sciences    2697.0    757.0  0.280682\n",
       "13        3                       Architecture   37667.0   9684.0  0.257095\n",
       "14        3                  Civil Engineering    5725.0   1656.0  0.289258\n",
       "15        3                   Computer Science    3795.0   1112.0  0.293017\n",
       "16        3                        Engineering    6620.0   2101.0  0.317372\n",
       "17        3                   Military Science      14.0      3.0  0.214286\n",
       "18        4                        Agriculture   33687.0   7537.0  0.223736\n",
       "19        4                           Business   36370.0   8178.0  0.224856\n",
       "20        4                          Dentistry    3488.0   1005.0  0.288131\n",
       "21        4                          Education   30673.0  10764.0  0.350928\n",
       "22        4       Family and Consumer Sciences      16.0     15.0  0.937500\n",
       "23        4                           Forestry     360.0    112.0  0.311111\n",
       "24        4              Health Administration     911.0    232.0  0.254665\n",
       "25        4                        Kinesiology    1078.0    314.0  0.291280\n",
       "26        4                                Law   33595.0   9274.0  0.276053\n",
       "27        4    Library and Information Science     436.0    198.0  0.454128\n",
       "28        4  Media, Communications, Journalism    6063.0   1776.0  0.292924\n",
       "29        4                           Medicine   15449.0   5183.0  0.335491\n",
       "30        4                            Nursing     656.0    520.0  0.792683\n",
       "31        4               Parks and Recreation      13.0      4.0  0.307692\n",
       "32        4  Public Affairs and Administration     861.0    235.0  0.272938\n",
       "33        4                      Public Health    1669.0    726.0  0.434991\n",
       "34        4                      Public Safety     815.0    172.0  0.211043\n",
       "35        4                        Social Work    3490.0   1799.0  0.515473\n",
       "36        4                Veterinary Medicine       2.0      1.0  0.500000\n",
       "37        5                                Art    6918.0   2373.0  0.343018\n",
       "38        5                           Classics   13561.0   3315.0  0.244451\n",
       "39        5                            English  109795.0  38363.0  0.349406\n",
       "40        5                            History  144396.0  39879.0  0.276178\n",
       "41        5   Languages and Literature (Modern    5445.0   1915.0  0.351699\n",
       "42        5                        Linguistics    5729.0   1689.0  0.294816\n",
       "43        5                    Performing Arts   18660.0   3941.0  0.211200\n",
       "44        5                         Philosophy   27844.0   7389.0  0.265371\n",
       "45        5            Writing and Composition      68.0     25.0  0.367647"
      ]
     },
     "execution_count": 12,
     "metadata": {},
     "output_type": "execute_result"
    }
   ],
   "source": [
    "workmat"
   ]
  },
  {
   "cell_type": "code",
   "execution_count": 13,
   "metadata": {
    "collapsed": false
   },
   "outputs": [],
   "source": [
    "workmat.to_csv('new_bubble_json_data.csv')"
   ]
  },
  {
   "cell_type": "code",
   "execution_count": 16,
   "metadata": {
    "collapsed": false
   },
   "outputs": [],
   "source": [
    "sql_query = \"\"\"\n",
    "select fdclass,inst,sum(mcount) as males, sum(fcount) as females from all_info group by fdclass,inst\n",
    "\"\"\"\n",
    "workmat = pd.read_sql_query(sql_query,conn)"
   ]
  },
  {
   "cell_type": "code",
   "execution_count": 18,
   "metadata": {
    "collapsed": false
   },
   "outputs": [],
   "source": [
    "workmat['ratio']=workmat.females/workmat.males\n",
    "workmat['nrec']=workmat.females+workmat.males"
   ]
  },
  {
   "cell_type": "code",
   "execution_count": 23,
   "metadata": {
    "collapsed": false
   },
   "outputs": [
    {
     "data": {
      "text/plain": [
       "   fdclass                                           inst     ratio    nrec\n",
       "0        2                       University of Manchester  0.098592    78.0\n",
       "1        1                       Florida State University  0.250891  1755.0\n",
       "2        1  Université du Droit et de la Sante (Lille II)  0.041667    50.0\n",
       "3        2                                Bowdoin College  0.179688   151.0\n",
       "4        5                  Northwest Nazarene University  0.141176    97.0\n",
       "5        5                          University of Salford  0.306452   162.0\n",
       "6        5                           University of Dayton  0.267717   322.0\n",
       "7        5                          University of Warwick  0.283394   711.0\n",
       "8        5                   City University of Hong Kong  0.250000    10.0\n",
       "9        1                    Western Carolina University  1.200000    11.0"
      ]
     },
     "execution_count": 23,
     "metadata": {},
     "output_type": "execute_result"
    }
   ],
   "source": [
    "workmat.head(10)"
   ]
  },
  {
   "cell_type": "code",
   "execution_count": 21,
   "metadata": {
    "collapsed": false
   },
   "outputs": [],
   "source": [
    "workmat = workmat.drop('males',1)\n",
    "workmat = workmat.drop('females',1)"
   ]
  },
  {
   "cell_type": "code",
   "execution_count": 25,
   "metadata": {
    "collapsed": false
   },
   "outputs": [],
   "source": [
    "workmat.to_sql('webpage_query',engine)"
   ]
  },
  {
   "cell_type": "code",
   "execution_count": 69,
   "metadata": {
    "collapsed": false
   },
   "outputs": [],
   "source": [
    "sql_query = \"\"\"\n",
    "SELECT inst,fdclass,ratio,nrec FROM webpage_query WHERE inst ILIKE '%california%' ORDER BY inst,fdclass,nrec desc\n",
    "\"\"\"\n",
    "qout = pd.read_sql_query(sql_query,conn)"
   ]
  },
  {
   "cell_type": "code",
   "execution_count": 70,
   "metadata": {
    "collapsed": false
   },
   "outputs": [
    {
     "data": {
      "text/plain": [
       "                                       inst  fdclass     ratio   nrec\n",
       "0             California Baptist University        5  0.200000    6.0\n",
       "1  California Institute of Integral Studies        1  0.233333   74.0\n",
       "2  California Institute of Integral Studies        3  0.260870   87.0\n",
       "3        California Institute of Technology        1  0.160000   58.0\n",
       "4        California Institute of Technology        2  0.222222  253.0\n",
       "5        California Institute of Technology        3  0.333333    8.0"
      ]
     },
     "execution_count": 70,
     "metadata": {},
     "output_type": "execute_result"
    }
   ],
   "source": [
    "qout.head(6)"
   ]
  },
  {
   "cell_type": "code",
   "execution_count": 35,
   "metadata": {
    "collapsed": false
   },
   "outputs": [],
   "source": [
    "name1 = np.array(qout[qout.fdclass == 1].inst)[0]"
   ]
  },
  {
   "cell_type": "code",
   "execution_count": 66,
   "metadata": {
    "collapsed": false
   },
   "outputs": [
    {
     "name": "stdout",
     "output_type": "stream",
     "text": [
      "0.25\n",
      "0\n",
      "0\n",
      "0\n",
      "0.166666666667\n"
     ]
    }
   ],
   "source": [
    "ratiolist = []\n",
    "recordlist = []\n",
    "\n",
    "for i in range(1,6):\n",
    "        try:\n",
    "            val = np.array(qout[qout.fdclass == i].ratio)[0]\n",
    "        except:\n",
    "            val = 0\n",
    "        print val\n",
    "        ratiolist.append(val)\n",
    "        try:\n",
    "            val = np.array(qout[qout.fdclass == i].nrec)[0]\n",
    "        except: \n",
    "            val = 0\n",
    "        recordlist.append(val)\n"
   ]
  },
  {
   "cell_type": "code",
   "execution_count": 122,
   "metadata": {
    "collapsed": true
   },
   "outputs": [],
   "source": [
    "sql_query = \"\"\"\n",
    "select * from date_count1 order by date\n",
    "\"\"\"\n",
    "workmat = pd.read_sql_query(sql_query,conn)"
   ]
  },
  {
   "cell_type": "code",
   "execution_count": 123,
   "metadata": {
    "collapsed": false
   },
   "outputs": [
    {
     "data": {
      "text/plain": [
       "    date  mcount  fcount\n",
       "0   0079       1       0\n",
       "1   0083       1       0\n",
       "2   0227       1       0\n",
       "3   1000       1       0\n",
       "4   1010       1       0\n",
       "5   1011       1       0\n",
       "6   1012       1       0\n",
       "7   1014       1       0\n",
       "8   1018       2       0\n",
       "9   1019       8       0\n",
       "10  1051       1       0\n",
       "11  1066       0       1\n",
       "12  1071       0       0\n",
       "13  1111       1       0\n",
       "14  1114       1       0\n",
       "15  1118       0       0\n",
       "16  1119       2       2\n",
       "17  1132       0       0\n",
       "18  1148       1       0\n",
       "19  1149       1       1\n",
       "20  1175       2       0\n",
       "21  1178       1       0\n",
       "22  1179       1       1\n",
       "23  1180       1       0\n",
       "24  1181       1       0"
      ]
     },
     "execution_count": 123,
     "metadata": {},
     "output_type": "execute_result"
    }
   ],
   "source": [
    "workmat.head(25)"
   ]
  },
  {
   "cell_type": "code",
   "execution_count": 17,
   "metadata": {
    "collapsed": false
   },
   "outputs": [
    {
     "data": {
      "text/plain": [
       "(902, 3)"
      ]
     },
     "execution_count": 17,
     "metadata": {},
     "output_type": "execute_result"
    }
   ],
   "source": [
    "workmat.shape"
   ]
  },
  {
   "cell_type": "code",
   "execution_count": 18,
   "metadata": {
    "collapsed": false
   },
   "outputs": [
    {
     "name": "stderr",
     "output_type": "stream",
     "text": [
      "/home/parama/anaconda2/lib/python2.7/site-packages/ipykernel/__main__.py:2: SettingWithCopyWarning: \n",
      "A value is trying to be set on a copy of a slice from a DataFrame\n",
      "\n",
      "See the caveats in the documentation: http://pandas.pydata.org/pandas-docs/stable/indexing.html#indexing-view-versus-copy\n",
      "  from ipykernel import kernelapp as app\n"
     ]
    }
   ],
   "source": [
    "for index in range(0,901):\n",
    "    workmat.date[index] = int(workmat.date[index])"
   ]
  },
  {
   "cell_type": "code",
   "execution_count": 25,
   "metadata": {
    "collapsed": false
   },
   "outputs": [],
   "source": [
    "df = workmat[workmat.date >= 1900]\n",
    "df = df[df.date <= 2005]"
   ]
  },
  {
   "cell_type": "code",
   "execution_count": 26,
   "metadata": {
    "collapsed": false
   },
   "outputs": [
    {
     "data": {
      "text/plain": [
       "((106, 3), (902, 3))"
      ]
     },
     "execution_count": 26,
     "metadata": {},
     "output_type": "execute_result"
    }
   ],
   "source": [
    "df.shape, workmat.shape"
   ]
  },
  {
   "cell_type": "code",
   "execution_count": 33,
   "metadata": {
    "collapsed": false
   },
   "outputs": [],
   "source": [
    "df.to_csv('published_data.csv')"
   ]
  },
  {
   "cell_type": "code",
   "execution_count": 29,
   "metadata": {
    "collapsed": true
   },
   "outputs": [],
   "source": [
    "df['ratio']=df.fcount/df.mcount"
   ]
  },
  {
   "cell_type": "code",
   "execution_count": 31,
   "metadata": {
    "collapsed": false
   },
   "outputs": [],
   "source": [
    "from scipy.signal import savgol_filter\n",
    "df['filtered'] = savgol_filter(df.ratio,25,5)"
   ]
  },
  {
   "cell_type": "code",
   "execution_count": 110,
   "metadata": {
    "collapsed": false
   },
   "outputs": [
    {
     "data": {
      "text/plain": [
       "     date  mcount  fcount     ratio  filtered\n",
       "498  1900    1867     319  0.170862  0.163695\n",
       "499  1901    1720     261  0.151744  0.154322\n",
       "500  1902    1751     256  0.146202  0.148259\n",
       "501  1903    1850     223  0.120541  0.144793\n",
       "502  1904    1688     260  0.154028  0.143322\n",
       "503  1905    1823     271  0.148656  0.143342\n",
       "504  1906    1878     273  0.145367  0.144439\n",
       "505  1907    1959     311  0.158754  0.146281\n",
       "506  1908    2299     376  0.163549  0.148606\n",
       "507  1909    2416     343  0.141970  0.151213\n",
       "508  1910    1853     294  0.158662  0.153953\n",
       "509  1911    1923     277  0.144046  0.156718\n",
       "510  1912    2066     297  0.143756  0.159434\n",
       "511  1913    2013     330  0.163934  0.162131\n",
       "512  1914    2028     301  0.148422  0.163900\n",
       "513  1915    1794     314  0.175028  0.165332\n",
       "514  1916    1647     295  0.179114  0.168953\n",
       "515  1917    1642     288  0.175396  0.171156\n",
       "516  1918    1532     286  0.186684  0.172234\n",
       "517  1919    1635     295  0.180428  0.173371\n",
       "518  1920    1790     263  0.146927  0.173639\n",
       "519  1921    1637     308  0.188149  0.171467\n",
       "520  1922    1973     320  0.162190  0.171949\n",
       "521  1923    1846     288  0.156013  0.172446\n",
       "522  1924    1800     312  0.173333  0.170922\n",
       "523  1925    1866     334  0.178992  0.171510\n",
       "524  1926    1811     312  0.172281  0.171416\n",
       "525  1927    1874     330  0.176094  0.174635\n",
       "526  1928    1927     336  0.174364  0.176773\n",
       "527  1929    2098     396  0.188751  0.177794\n",
       "..    ...     ...     ...       ...       ...\n",
       "574  1976    7056    1446  0.204932  0.202459\n",
       "575  1977    7258    1533  0.211215  0.208180\n",
       "576  1978    7386    1564  0.211752  0.212636\n",
       "577  1979    7547    1598  0.211740  0.216630\n",
       "578  1980    7507    1667  0.222059  0.222115\n",
       "579  1981    7477    1776  0.237528  0.226923\n",
       "580  1982    7692    1817  0.236219  0.233048\n",
       "581  1983    7896    1838  0.232776  0.238264\n",
       "582  1984    8374    1970  0.235252  0.243942\n",
       "583  1985    8887    2168  0.243952  0.250342\n",
       "584  1986    9089    2442  0.268676  0.256817\n",
       "585  1987    9361    2449  0.261617  0.264884\n",
       "586  1988    9703    2649  0.273008  0.271920\n",
       "587  1989    9640    2688  0.278838  0.279390\n",
       "588  1990   10159    2915  0.286938  0.286201\n",
       "589  1991    9885    2865  0.289833  0.291985\n",
       "590  1992   10259    3141  0.306170  0.299028\n",
       "591  1993   11111    3345  0.301053  0.305684\n",
       "592  1994   11970    3858  0.322306  0.310662\n",
       "593  1995   12702    3904  0.307353  0.315552\n",
       "594  1996   12508    4007  0.320355  0.320551\n",
       "595  1997   13110    4259  0.324867  0.325801\n",
       "596  1998   12951    4273  0.329936  0.331354\n",
       "597  1999   12614    4309  0.341605  0.337140\n",
       "598  2000   13225    4478  0.338601  0.342932\n",
       "599  2001   12547    4413  0.351718  0.348315\n",
       "600  2002   13437    4820  0.358711  0.352650\n",
       "601  2003   13523    4690  0.346817  0.355044\n",
       "602  2004   12769    4522  0.354139  0.354311\n",
       "603  2005   12380    4342  0.350727  0.348944\n",
       "\n",
       "[106 rows x 5 columns]"
      ]
     },
     "execution_count": 110,
     "metadata": {},
     "output_type": "execute_result"
    }
   ],
   "source": [
    "df"
   ]
  },
  {
   "cell_type": "code",
   "execution_count": 35,
   "metadata": {
    "collapsed": false
   },
   "outputs": [],
   "source": [
    "sql_query = \"\"\"\n",
    "SELECT mcount,fcount FROM all_info \n",
    "WHERE fdclass = 1\n",
    "\"\"\"\n",
    "f1 = pd.read_sql_query(sql_query,conn)"
   ]
  },
  {
   "cell_type": "code",
   "execution_count": 36,
   "metadata": {
    "collapsed": true
   },
   "outputs": [],
   "source": [
    "sql_query = \"\"\"\n",
    "SELECT mcount,fcount FROM all_info \n",
    "WHERE fdclass = 2\n",
    "\"\"\"\n",
    "f2 = pd.read_sql_query(sql_query,conn)"
   ]
  },
  {
   "cell_type": "code",
   "execution_count": 37,
   "metadata": {
    "collapsed": true
   },
   "outputs": [],
   "source": [
    "sql_query = \"\"\"\n",
    "SELECT mcount,fcount FROM all_info \n",
    "WHERE fdclass = 3\n",
    "\"\"\"\n",
    "f3 = pd.read_sql_query(sql_query,conn)"
   ]
  },
  {
   "cell_type": "code",
   "execution_count": 38,
   "metadata": {
    "collapsed": true
   },
   "outputs": [],
   "source": [
    "sql_query = \"\"\"\n",
    "SELECT mcount,fcount FROM all_info \n",
    "WHERE fdclass = 4\n",
    "\"\"\"\n",
    "f4 = pd.read_sql_query(sql_query,conn)"
   ]
  },
  {
   "cell_type": "code",
   "execution_count": 39,
   "metadata": {
    "collapsed": true
   },
   "outputs": [],
   "source": [
    "sql_query = \"\"\"\n",
    "SELECT mcount,fcount FROM all_info \n",
    "WHERE fdclass = 5\n",
    "\"\"\"\n",
    "f5 = pd.read_sql_query(sql_query,conn)"
   ]
  },
  {
   "cell_type": "code",
   "execution_count": 8,
   "metadata": {
    "collapsed": false
   },
   "outputs": [
    {
     "ename": "NameError",
     "evalue": "name 'f1' is not defined",
     "output_type": "error",
     "traceback": [
      "\u001b[1;31m---------------------------------------------------------------------------\u001b[0m",
      "\u001b[1;31mNameError\u001b[0m                                 Traceback (most recent call last)",
      "\u001b[1;32m<ipython-input-8-57d2b794c850>\u001b[0m in \u001b[0;36m<module>\u001b[1;34m()\u001b[0m\n\u001b[0;32m      6\u001b[0m \u001b[1;33m\u001b[0m\u001b[0m\n\u001b[0;32m      7\u001b[0m \u001b[1;32mfrom\u001b[0m \u001b[0mpylab\u001b[0m \u001b[1;32mimport\u001b[0m \u001b[0mrcParams\u001b[0m\u001b[1;33m\u001b[0m\u001b[0m\n\u001b[1;32m----> 8\u001b[1;33m \u001b[0mX1\u001b[0m \u001b[1;33m=\u001b[0m \u001b[0mf1\u001b[0m\u001b[1;33m.\u001b[0m\u001b[0mfcount\u001b[0m\u001b[1;33m/\u001b[0m\u001b[1;36m1\u001b[0m\u001b[1;33m\u001b[0m\u001b[0m\n\u001b[0m\u001b[0;32m      9\u001b[0m \u001b[0mY1\u001b[0m \u001b[1;33m=\u001b[0m \u001b[0mf1\u001b[0m\u001b[1;33m.\u001b[0m\u001b[0mmcount\u001b[0m\u001b[1;33m/\u001b[0m\u001b[1;36m1\u001b[0m\u001b[1;33m\u001b[0m\u001b[0m\n\u001b[0;32m     10\u001b[0m \u001b[0mX2\u001b[0m \u001b[1;33m=\u001b[0m \u001b[0mf2\u001b[0m\u001b[1;33m.\u001b[0m\u001b[0mfcount\u001b[0m\u001b[1;33m/\u001b[0m\u001b[1;36m1\u001b[0m\u001b[1;33m\u001b[0m\u001b[0m\n",
      "\u001b[1;31mNameError\u001b[0m: name 'f1' is not defined"
     ]
    }
   ],
   "source": [
    "import numpy as np\n",
    "import matplotlib as mpl\n",
    "import matplotlib.pyplot as plt\n",
    "import seaborn as sns\n",
    "%matplotlib qt\n",
    "\n",
    "from pylab import rcParams\n",
    "X1 = f1.fcount/1\n",
    "Y1 = f1.mcount/1\n",
    "X2 = f2.fcount/1\n",
    "Y2 = f2.mcount/1\n",
    "X3 = f3.fcount/1\n",
    "Y3 = f3.mcount/1\n",
    "X4 = f4.fcount/1\n",
    "Y4 = f4.mcount/1\n",
    "X5 = f5.fcount/1\n",
    "Y5 = f5.mcount/1\n",
    "X = range(0,1500)\n",
    "\n",
    "lo = plt.scatter(X1,Y1,color='red')\n",
    "ll = plt.scatter(X2,Y2,color='blue')\n",
    "l = plt.scatter(X3,Y3,color='orange')\n",
    "a = plt.scatter(X4,Y4,color='green')\n",
    "h = plt.scatter(X5,Y5,color='purple')\n",
    "hh = plt.plot(X,X,color='black')\n",
    "\n",
    "plt.xlim(0, 1500)\n",
    "plt.ylim(0, 1500)\n",
    "plt.xlabel('No. of Female Authors',size = 18)\n",
    "plt.ylabel('No. of Male Authors',size=18)\n",
    "plt.title('Author count in each syllabus',size = 20)\n",
    "\n",
    "#plt.text(0.5, 1.08, plt.title,horizontalalignment='center',fontsize=20)\n",
    "plt.legend((lo, ll, l, a, h, hh),\n",
    "           ('Soc.Sc.', 'Nat.Sc.', 'Engg.', 'Proff.', 'Humn'),\n",
    "           scatterpoints=1,\n",
    "           loc='upper right',\n",
    "           ncol=1,\n",
    "           fontsize=15)\n",
    "plt.tick_params(axis='both', which='major', labelsize=20)\n",
    "plt.tight_layout()\n",
    "plt.show()\n",
    "\n",
    "plt.savefig('scat1', format='png')"
   ]
  },
  {
   "cell_type": "code",
   "execution_count": 9,
   "metadata": {
    "collapsed": true
   },
   "outputs": [],
   "source": [
    "sql_query = \"\"\"\n",
    "SELECT * FROM scat2 \"\"\"\n",
    "f2 = pd.read_sql_query(sql_query,conn)"
   ]
  },
  {
   "cell_type": "code",
   "execution_count": 10,
   "metadata": {
    "collapsed": false
   },
   "outputs": [
    {
     "data": {
      "text/plain": [
       "                                                   inst     ratio\n",
       "0                       Northwest Florida State College  0.017241\n",
       "1                   Université Paris Nanterre (Paris X)  0.021277\n",
       "2                                   University of Crete  0.023256\n",
       "3                       Technical University of Denmark  0.036585\n",
       "4              Southern Arkansas University Main Campus  0.038462\n",
       "5         Université du Droit et de la Sante (Lille II)  0.041667\n",
       "6                                      Akita University  0.047619\n",
       "7                        University of Economics Prague  0.049645\n",
       "8                                     Jiwaji University  0.050000\n",
       "9                                 Multimedia University  0.052632\n",
       "10                                       Regent College  0.052632\n",
       "11                                 Saint Leo University  0.054054\n",
       "12                                          Coe College  0.054545\n",
       "13               Indian Institute of Technology, Bombay  0.058728\n",
       "14                                     Walsh University  0.058824\n",
       "15                           Universität des Saarlandes  0.058824\n",
       "16                                      Brac University  0.060606\n",
       "17                      Maranatha Baptist Bible College  0.061404\n",
       "18                                     Covenant College  0.062500\n",
       "19                            Charter Oak State College  0.062500\n",
       "20               Biju Pattnaik University of Technology  0.064516\n",
       "21                          Universidad de Buenos Aires  0.065789\n",
       "22                                Universidad de Gerona  0.066667\n",
       "23                                 University of Madras  0.066667\n",
       "24                         Université Lumiére (Lyon II)  0.066667\n",
       "25                    Comenius University in Bratislava  0.067797\n",
       "26                 El Camino Community College District  0.068966\n",
       "27                          Indiana Wesleyan University  0.068966\n",
       "28    Richard Gilder Graduate School at the American...  0.070919\n",
       "29                                   Osmania University  0.071429\n",
       "...                                                 ...       ...\n",
       "1959  Hellenic College-Holy Cross Greek Orthodox Sch...  2.000000\n",
       "1960                          Delgado Community College  2.000000\n",
       "1961                 Université de Caen Basse Normandie  2.000000\n",
       "1962                      Green River Community College  2.000000\n",
       "1963                                   San Juan College  2.000000\n",
       "1964     Chao Yang University of Science and Technology  2.000000\n",
       "1965                            Ferris State University  2.000000\n",
       "1966                University of South Carolina-Sumter  2.000000\n",
       "1967           Pontificia Universidad Católica del Perú  2.000000\n",
       "1968                                  Mendocino College  2.000000\n",
       "1969                                  Stonehill College  2.000000\n",
       "1970                                   Benedict College  2.000000\n",
       "1971  University of International Business and Econo...  2.000000\n",
       "1972                               Murray State College  2.000000\n",
       "1973                  Nashville State Community College  2.000000\n",
       "1974                               Saint Joseph College  2.000000\n",
       "1975            Massachusetts College of Art and Design  2.000000\n",
       "1976                            Elgin Community College  2.250000\n",
       "1977                      University of Mary Washington  2.333333\n",
       "1978                            University of Worcester  2.500000\n",
       "1979                        Graceland University-Lamoni  2.666667\n",
       "1980                             William Jewell College  3.000000\n",
       "1981           Seattle Community College-Central Campus  3.000000\n",
       "1982                     Notre Dame de Namur University  3.000000\n",
       "1983                      Kentucky Christian University  3.000000\n",
       "1984                                 Concord University  3.000000\n",
       "1985                                     Wilson College  3.000000\n",
       "1986               Western Connecticut State University  4.000000\n",
       "1987                           McNeese State University  5.000000\n",
       "1988                 Pädagogische Hochschule Weingarten  9.500000\n",
       "\n",
       "[1989 rows x 2 columns]"
      ]
     },
     "execution_count": 10,
     "metadata": {},
     "output_type": "execute_result"
    }
   ],
   "source": [
    "f2"
   ]
  },
  {
   "cell_type": "code",
   "execution_count": 16,
   "metadata": {
    "collapsed": false
   },
   "outputs": [],
   "source": [
    "plt.hist(np.array(f2.ratio))\n",
    "plt.show()"
   ]
  },
  {
   "cell_type": "code",
   "execution_count": 13,
   "metadata": {
    "collapsed": false
   },
   "outputs": [],
   "source": [
    "x = np.array(f2.ratio)"
   ]
  },
  {
   "cell_type": "code",
   "execution_count": 22,
   "metadata": {
    "collapsed": false
   },
   "outputs": [],
   "source": [
    "import matplotlib.mlab as mlab\n",
    "#%matplotlib inline\n",
    "\n",
    "n, bins, patches = plt.hist(x, 500, normed=1, facecolor='brown', alpha=0.75)\n",
    "\n",
    "# add a 'best fit' line\n",
    "y = mlab.normpdf( bins, 0.25, 0.1)\n",
    "l = plt.plot(bins, y, 'b--', linewidth=1)\n",
    "\n",
    "plt.xlabel('Gender Ratio')\n",
    "plt.ylabel('Frequency')\n",
    "plt.title('Distribution across Institutions')\n",
    "plt.axis([0, 2, 0, 4])\n",
    "plt.grid(True)\n",
    "\n",
    "#plt.show()\n",
    "plt.savefig('scat2.png')\n",
    "plt.savefig('scat2', format='png')"
   ]
  },
  {
   "cell_type": "code",
   "execution_count": 21,
   "metadata": {
    "collapsed": true
   },
   "outputs": [],
   "source": [
    "f2.to_csv('histogram_data.csv')"
   ]
  },
  {
   "cell_type": "code",
   "execution_count": 128,
   "metadata": {
    "collapsed": true
   },
   "outputs": [],
   "source": [
    "sql_query = \"\"\"\n",
    "select * from date_info order by date\n",
    "\"\"\"\n",
    "workmat = pd.read_sql_query(sql_query,conn)"
   ]
  },
  {
   "cell_type": "code",
   "execution_count": 163,
   "metadata": {
    "collapsed": false
   },
   "outputs": [],
   "source": [
    "workmat = workmat[396448:910000]"
   ]
  },
  {
   "cell_type": "code",
   "execution_count": 164,
   "metadata": {
    "collapsed": false
   },
   "outputs": [
    {
     "data": {
      "text/plain": [
       "(513552, 5)"
      ]
     },
     "execution_count": 164,
     "metadata": {},
     "output_type": "execute_result"
    }
   ],
   "source": [
    "workmat.shape"
   ]
  },
  {
   "cell_type": "code",
   "execution_count": 165,
   "metadata": {
    "collapsed": false
   },
   "outputs": [
    {
     "data": {
      "text/plain": [
       "         index       id  date gender  checker\n",
       "396448   81462  1136012  1980      m        4\n",
       "396449  146469  1534121  1980      m        4\n",
       "396450   81470  1136090  1980      m        4\n",
       "396451  142646  1510226  1980      m        4\n",
       "396452   81582  1136971  1980      m        4"
      ]
     },
     "execution_count": 165,
     "metadata": {},
     "output_type": "execute_result"
    }
   ],
   "source": [
    "workmat.head()"
   ]
  },
  {
   "cell_type": "code",
   "execution_count": 166,
   "metadata": {
    "collapsed": true
   },
   "outputs": [],
   "source": [
    "workmat.to_sql('scat5',engine)"
   ]
  },
  {
   "cell_type": "code",
   "execution_count": 167,
   "metadata": {
    "collapsed": true
   },
   "outputs": [],
   "source": [
    "sql_query = \"\"\"\n",
    "select * from scat6 order by field\n",
    "\"\"\"\n",
    "workmat1 = pd.read_sql_query(sql_query,conn)"
   ]
  },
  {
   "cell_type": "code",
   "execution_count": 168,
   "metadata": {
    "collapsed": true
   },
   "outputs": [],
   "source": [
    "sql_query = \"\"\"\n",
    "select field,sum(mcount) as males, sum(fcount) as females from all_info group by field order by field \n",
    "\"\"\"\n",
    "workmat2 = pd.read_sql_query(sql_query,conn)"
   ]
  },
  {
   "cell_type": "code",
   "execution_count": 176,
   "metadata": {
    "collapsed": false
   },
   "outputs": [
    {
     "data": {
      "image/png": "[encoded data removed]",
      "text/plain": [
       "<matplotlib.figure.Figure at 0x7ff90a397c90>"
      ]
     },
     "metadata": {},
     "output_type": "display_data"
    }
   ],
   "source": [
    "import numpy as np\n",
    "import pylab as plt\n",
    "import seaborn as sns\n",
    "\n",
    "from pylab import rcParams\n",
    "rcParams['figure.figsize'] = 5, 5\n",
    "\n",
    "X1 = workmat1.fcount/1\n",
    "Y1 = workmat1.mcount/1\n",
    "X2 = workmat2.females/1\n",
    "Y2 = workmat2.males/1\n",
    "\n",
    "plt.scatter(X1,Y1,color='r')\n",
    "plt.scatter(X2,Y2,color='b')\n",
    "plt.plot(X1,X1,color='black')\n",
    "\n",
    "plt.xlim(0, 5000)\n",
    "plt.ylim(0, 5000)\n",
    "plt.xlabel('Female Authors',size = 18)\n",
    "plt.ylabel('Male Authors',size=18)\n",
    "#plt.title('No. of Male/Female authors in every 10K texts',size = 20)\n",
    "\n",
    "#plt.text(0.5, 1.08, plt.title,horizontalalignment='center',fontsize=20)\n",
    "\n",
    "\n",
    "#plt.show()\n",
    "plt.savefig('scat3.png')"
   ]
  },
  {
   "cell_type": "code",
   "execution_count": 170,
   "metadata": {
    "collapsed": false
   },
   "outputs": [
    {
     "data": {
      "text/plain": [
       "((46, 3), (46, 3))"
      ]
     },
     "execution_count": 170,
     "metadata": {},
     "output_type": "execute_result"
    }
   ],
   "source": [
    "workmat1.shape, workmat2.shape"
   ]
  },
  {
   "cell_type": "code",
   "execution_count": 173,
   "metadata": {
    "collapsed": false
   },
   "outputs": [
    {
     "data": {
      "text/plain": [
       "                                field     males  females\n",
       "0                         Agriculture   33687.0   7537.0\n",
       "1                        Anthropology   45963.0  13646.0\n",
       "2                        Architecture   37667.0   9684.0\n",
       "3             Area and Ethnic Studies   45589.0  12491.0\n",
       "4                                 Art    6918.0   2373.0\n",
       "5          Astronomy and Astrophysics    2378.0    493.0\n",
       "6                             Biology   64302.0  14618.0\n",
       "7                            Business   36370.0   8178.0\n",
       "8                           Chemistry    1833.0    438.0\n",
       "9                   Civil Engineering    5725.0   1656.0\n",
       "10                           Classics   13561.0   3315.0\n",
       "11                   Computer Science    3795.0   1112.0\n",
       "12                          Dentistry    3488.0   1005.0\n",
       "13                     Earth Sciences    2697.0    757.0\n",
       "14                          Economics   48584.0   9512.0\n",
       "15                          Education   30673.0  10764.0\n",
       "16                        Engineering    6620.0   2101.0\n",
       "17                            English  109795.0  38363.0\n",
       "18       Family and Consumer Sciences      16.0     15.0\n",
       "19                           Forestry     360.0    112.0\n",
       "20              Health Administration     911.0    232.0\n",
       "21                            History  144396.0  39879.0\n",
       "22                        Kinesiology    1078.0    314.0\n",
       "23   Languages and Literature (Modern    5445.0   1915.0\n",
       "24                                Law   33595.0   9274.0\n",
       "25    Library and Information Science     436.0    198.0\n",
       "26                        Linguistics    5729.0   1689.0\n",
       "27  Media, Communications, Journalism    6063.0   1776.0\n",
       "28                           Medicine   15449.0   5183.0\n",
       "29                   Military Science      14.0      3.0\n",
       "30                            Nursing     656.0    520.0\n",
       "31               Parks and Recreation      13.0      4.0\n",
       "32                    Performing Arts   18660.0   3941.0\n",
       "33                         Philosophy   27844.0   7389.0\n",
       "34                           Politics   33027.0   7439.0\n",
       "35                         Psychology   11440.0   3693.0\n",
       "36  Public Affairs and Administration     861.0    235.0\n",
       "37                      Public Health    1669.0    726.0\n",
       "38                      Public Safety     815.0    172.0\n",
       "39                  Religious Studies    2017.0    597.0\n",
       "40                        Social Work    3490.0   1799.0\n",
       "41                          Sociology   33617.0  11330.0\n",
       "42   Theology and Religious Education     372.0     80.0\n",
       "43                Veterinary Medicine       2.0      1.0\n",
       "44                    Women's Studies     488.0    526.0\n",
       "45            Writing and Composition      68.0     25.0"
      ]
     },
     "execution_count": 173,
     "metadata": {},
     "output_type": "execute_result"
    }
   ],
   "source": [
    "workmat2"
   ]
  },
  {
   "cell_type": "code",
   "execution_count": null,
   "metadata": {
    "collapsed": true
   },
   "outputs": [],
   "source": []
  }
 ],
 "metadata": {
  "kernelspec": {
   "display_name": "Python 2",
   "language": "python",
   "name": "python2"
  },
  "language_info": {
   "codemirror_mode": {
    "name": "ipython",
    "version": 2
   },
   "file_extension": ".py",
   "mimetype": "text/x-python",
   "name": "python",
   "nbconvert_exporter": "python",
   "pygments_lexer": "ipython2",
   "version": "2.7.11"
  }
 },
 "nbformat": 4,
 "nbformat_minor": 0
}
