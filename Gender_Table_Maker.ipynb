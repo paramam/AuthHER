{
 "cells": [
  {
   "cell_type": "markdown",
   "metadata": {},
   "source": [
    "# Read the SQL author table - clean it and make a table and push it into database"
   ]
  },
  {
   "cell_type": "code",
   "execution_count": 15,
   "metadata": {
    "collapsed": false
   },
   "outputs": [],
   "source": [
    "import numpy as np\n",
    "import matplotlib.pyplot as plt\n",
    "import pandas as pd\n",
    "from pandas import *\n",
    "#import nltk"
   ]
  },
  {
   "cell_type": "code",
   "execution_count": 16,
   "metadata": {
    "collapsed": true
   },
   "outputs": [],
   "source": [
    "%matplotlib inline\n",
    "pd.set_option('notebook_repr_html',False)"
   ]
  },
  {
   "cell_type": "code",
   "execution_count": 17,
   "metadata": {
    "collapsed": true
   },
   "outputs": [],
   "source": [
    "## Python packages - you may have to pip install sqlalchemy, sqlalchemy_utils, and psycopg2.\n",
    "from sqlalchemy import create_engine\n",
    "from sqlalchemy_utils import database_exists, create_database\n",
    "import psycopg2\n",
    "import pandas as pd"
   ]
  },
  {
   "cell_type": "code",
   "execution_count": 18,
   "metadata": {
    "collapsed": true
   },
   "outputs": [],
   "source": [
    "#In Python: Define a database name (we're using a dataset on births, so I call it \n",
    "# birth_db), and your username for your computer (CHANGE IT BELOW). \n",
    "dbname = 'opensyl'\n",
    "username = 'parama'"
   ]
  },
  {
   "cell_type": "code",
   "execution_count": 19,
   "metadata": {
    "collapsed": false
   },
   "outputs": [
    {
     "name": "stdout",
     "output_type": "stream",
     "text": [
      "postgres://parama@localhost/opensyl\n"
     ]
    }
   ],
   "source": [
    "## 'engine' is a connection to a database\n",
    "## Here, we're using postgres, but sqlalchemy can connect to other things too.\n",
    "engine = create_engine('postgres://%s@localhost/%s'%(username,dbname))\n",
    "print engine.url"
   ]
  },
  {
   "cell_type": "markdown",
   "metadata": {},
   "source": [
    "# Preparing the author-gender table"
   ]
  },
  {
   "cell_type": "code",
   "execution_count": 2,
   "metadata": {
    "collapsed": true
   },
   "outputs": [],
   "source": [
    "from sklearn.externals import joblib\n",
    "clf = joblib.load('randfor.pkl')"
   ]
  },
  {
   "cell_type": "code",
   "execution_count": 7,
   "metadata": {
    "collapsed": false
   },
   "outputs": [
    {
     "data": {
      "text/plain": [
       "u'/home/parama/Insight_Proj/codes'"
      ]
     },
     "execution_count": 7,
     "metadata": {},
     "output_type": "execute_result"
    }
   ],
   "source": [
    "%pwd"
   ]
  },
  {
   "cell_type": "code",
   "execution_count": 3,
   "metadata": {
    "collapsed": true
   },
   "outputs": [],
   "source": [
    "def nametogender(aname):\n",
    "    \n",
    "    f1 = Lastl.encode(get_last_letter(aname))\n",
    "    f2 = Seclastl.encode(get_2ndlast_letter(aname))\n",
    "    f3 = Firstl.encode(get_first_letter(aname))\n",
    "    f4 = Secondl.encode(get_2nd_letter(aname))\n",
    "    cinput = np.concatenate([f1, f2, f3, f4], axis=1)\n",
    "    return cinput"
   ]
  },
  {
   "cell_type": "code",
   "execution_count": 4,
   "metadata": {
    "collapsed": false
   },
   "outputs": [],
   "source": [
    "df = pd.read_csv('final_all_names.csv',index_col=False)\n",
    "df = df.drop('Unnamed: 0',1)\n",
    "df.name = df.name.str.replace('[^a-zA-Z]', '')\n",
    "df['name'] = df['name'].str.lower()\n",
    "\n",
    "length_Sel = []\n",
    "for everyname in df.name:\n",
    "    if len(everyname) >= 2:\n",
    "        length_Sel.append(1)\n",
    "    else:\n",
    "        length_Sel.append(0)\n",
    "        \n",
    "df['lengthselector'] = length_Sel\n",
    "df = df[df.lengthselector == 1]\n",
    "\n",
    "get_last_letter = lambda x: x[-1]\n",
    "get_2ndlast_letter = lambda x: x[-2]\n",
    "get_first_letter = lambda x: x[0]\n",
    "get_2nd_letter = lambda x: x[1]\n",
    "#vowels = 'AEIOUaeiou'\n",
    "#no_of_vowel = lambda x : sum( in vowels for s in x)\n",
    "\n",
    "df['factor1'] = df.name.map(get_last_letter)\n",
    "df['factor2'] = df.name.map(get_2ndlast_letter)\n",
    "df['factor3'] = df.name.map(get_first_letter)\n",
    "df['factor4'] = df.name.map(get_2nd_letter)"
   ]
  },
  {
   "cell_type": "code",
   "execution_count": 5,
   "metadata": {
    "collapsed": true
   },
   "outputs": [],
   "source": [
    "class Encoder(object):\n",
    "    def __init__(self,tokens):\n",
    "        uniquetokens = np.unique(tokens)\n",
    "        self.tokendict = {uniquetoken: i for i, uniquetoken in enumerate(uniquetokens)}\n",
    "        self.tokendictinv = {i: uniquetoken for i, uniquetoken in enumerate(uniquetokens)}\n",
    "        self.ntokens = len(uniquetokens)\n",
    "        \n",
    "    def encode(self,tokens):\n",
    "        n = len(tokens)\n",
    "        encodearray = np.zeros((n,self.ntokens))\n",
    "        for i, token in enumerate(tokens):\n",
    "            tokenid = self.tokendict.get(token,None)\n",
    "            if tokenid is not None:\n",
    "                encodearray[i,tokenid] = 1\n",
    "        return encodearray\n",
    "    \n",
    "    def colidx_to_token(self,colidx):\n",
    "        return self.tokendictinv[colidx]"
   ]
  },
  {
   "cell_type": "code",
   "execution_count": 6,
   "metadata": {
    "collapsed": false
   },
   "outputs": [],
   "source": [
    "Lastl = Encoder(df.factor1)\n",
    "Seclastl = Encoder(df.factor2)\n",
    "Firstl = Encoder(df.factor3)\n",
    "Secondl = Encoder(df.factor4)"
   ]
  },
  {
   "cell_type": "code",
   "execution_count": 7,
   "metadata": {
    "collapsed": false
   },
   "outputs": [
    {
     "data": {
      "text/plain": [
       "(array([1]), array([[ 0.28625,  0.71375]]))"
      ]
     },
     "execution_count": 7,
     "metadata": {},
     "output_type": "execute_result"
    }
   ],
   "source": [
    "clf.predict(nametogender('Minghua')), clf.predict_proba(nametogender('Minghua'))"
   ]
  },
  {
   "cell_type": "code",
   "execution_count": 8,
   "metadata": {
    "collapsed": false
   },
   "outputs": [],
   "source": [
    "dfs = pd.read_csv('sql_authors.csv',index_col=False)\n",
    "dfs.head(5)\n",
    "dfs = dfs[~pd.isnull(dfs['authors'])]"
   ]
  },
  {
   "cell_type": "code",
   "execution_count": 25,
   "metadata": {
    "collapsed": false
   },
   "outputs": [
    {
     "data": {
      "text/plain": [
       "array([[ 0.64407143,  0.35592857]])"
      ]
     },
     "execution_count": 25,
     "metadata": {},
     "output_type": "execute_result"
    }
   ],
   "source": [
    "clf.predict_proba(nametogender('William'))"
   ]
  },
  {
   "cell_type": "code",
   "execution_count": null,
   "metadata": {
    "collapsed": false
   },
   "outputs": [],
   "source": [
    "non_names = ['editor','author','Admin','Administration','Administrative','General','Publisher','Publishing',\n",
    "             'Random','Lawyer','Engineer','President','Author','Editor','writer','Writer','Reader','College',\n",
    "            'School','University','Institute','Institution','Government','Authority','Member','Authorities']\n",
    "genders = []\n",
    "for everyname in dfs.authors:\n",
    "    if len(everyname) < 2 or (everyname in non_names):\n",
    "        newgender = 'Unknown' \n",
    "    else:\n",
    "        gresult = clf.predict(nametogender(everyname))[0]\n",
    "        mprob = clf.predict_proba(nametogender(everyname))\n",
    "        if gresult == 0:\n",
    "            if mprob[0,0] > 0.80: \n",
    "                newgender = 'm'\n",
    "            else:\n",
    "                newgender = 'Unknown'\n",
    "        elif gresult == 1:\n",
    "            if mprob[0,1] > 0.80:\n",
    "                newgender = 'f'\n",
    "            else:\n",
    "                newgender = 'Unknown'         \n",
    "    genders.append(newgender)\n",
    "dfs['gender'] = genders"
   ]
  },
  {
   "cell_type": "code",
   "execution_count": 26,
   "metadata": {
    "collapsed": true
   },
   "outputs": [],
   "source": [
    "non_names = ['editor','author','Admin','Administration','Administrative','General','Publisher','Publishing',\n",
    "             'Random','Lawyer','Engineer','President','Author','Editor','writer','Writer','Reader','College',\n",
    "            'School','University','Institute','Institution','Government','Authority','Member','Authorities']\n",
    "genders = []\n",
    "for everyname in dfs.authors:\n",
    "    if len(everyname) < 2 or (everyname in non_names):\n",
    "        newgender = 'Unknown' \n",
    "    else:\n",
    "        gresult = clf.predict(nametogender(everyname))[0]\n",
    "        mprob = clf.predict_proba(nametogender(everyname))\n",
    "        if mprob[0,0] > 0.60:\n",
    "            newgender = 'm'\n",
    "        elif mprob[0,1] > 0.60:\n",
    "            newgender = 'f'\n",
    "        else:\n",
    "            newgender = 'Unknown'         \n",
    "    genders.append(newgender)\n",
    "dfs['gender'] = genders"
   ]
  },
  {
   "cell_type": "code",
   "execution_count": 13,
   "metadata": {
    "collapsed": false
   },
   "outputs": [
    {
     "data": {
      "text/html": [
       "<div>\n",
       "<table border=\"1\" class=\"dataframe\">\n",
       "  <thead>\n",
       "    <tr style=\"text-align: right;\">\n",
       "      <th></th>\n",
       "      <th>id</th>\n",
       "      <th>authors</th>\n",
       "      <th>surname</th>\n",
       "      <th>gender</th>\n",
       "    </tr>\n",
       "  </thead>\n",
       "  <tbody>\n",
       "    <tr>\n",
       "      <th>0</th>\n",
       "      <td>15</td>\n",
       "      <td>Walter</td>\n",
       "      <td>De la Mare</td>\n",
       "      <td>m</td>\n",
       "    </tr>\n",
       "    <tr>\n",
       "      <th>1</th>\n",
       "      <td>24</td>\n",
       "      <td>Ernst</td>\n",
       "      <td>Heidrich</td>\n",
       "      <td>m</td>\n",
       "    </tr>\n",
       "    <tr>\n",
       "      <th>2</th>\n",
       "      <td>31</td>\n",
       "      <td>William</td>\n",
       "      <td>Gladstone</td>\n",
       "      <td>Unknown</td>\n",
       "    </tr>\n",
       "    <tr>\n",
       "      <th>3</th>\n",
       "      <td>35</td>\n",
       "      <td>Gxcxarard</td>\n",
       "      <td>Masson</td>\n",
       "      <td>m</td>\n",
       "    </tr>\n",
       "    <tr>\n",
       "      <th>4</th>\n",
       "      <td>41</td>\n",
       "      <td>Gustav</td>\n",
       "      <td>Heider</td>\n",
       "      <td>m</td>\n",
       "    </tr>\n",
       "    <tr>\n",
       "      <th>5</th>\n",
       "      <td>59</td>\n",
       "      <td>Alexander</td>\n",
       "      <td>MacGibbon</td>\n",
       "      <td>Unknown</td>\n",
       "    </tr>\n",
       "    <tr>\n",
       "      <th>6</th>\n",
       "      <td>78</td>\n",
       "      <td>Wilhelm</td>\n",
       "      <td>Hasbach</td>\n",
       "      <td>m</td>\n",
       "    </tr>\n",
       "    <tr>\n",
       "      <th>7</th>\n",
       "      <td>81</td>\n",
       "      <td>Arthur</td>\n",
       "      <td>Tanner</td>\n",
       "      <td>m</td>\n",
       "    </tr>\n",
       "    <tr>\n",
       "      <th>8</th>\n",
       "      <td>93</td>\n",
       "      <td>Sidney</td>\n",
       "      <td>Colvin</td>\n",
       "      <td>Unknown</td>\n",
       "    </tr>\n",
       "    <tr>\n",
       "      <th>9</th>\n",
       "      <td>102</td>\n",
       "      <td>Andrxcxa</td>\n",
       "      <td>Grabar</td>\n",
       "      <td>f</td>\n",
       "    </tr>\n",
       "    <tr>\n",
       "      <th>10</th>\n",
       "      <td>112</td>\n",
       "      <td>Gloria</td>\n",
       "      <td>Goddard</td>\n",
       "      <td>f</td>\n",
       "    </tr>\n",
       "    <tr>\n",
       "      <th>11</th>\n",
       "      <td>114</td>\n",
       "      <td>Walter</td>\n",
       "      <td>De la Mare</td>\n",
       "      <td>m</td>\n",
       "    </tr>\n",
       "    <tr>\n",
       "      <th>12</th>\n",
       "      <td>135</td>\n",
       "      <td>William</td>\n",
       "      <td>Gladstone</td>\n",
       "      <td>Unknown</td>\n",
       "    </tr>\n",
       "    <tr>\n",
       "      <th>13</th>\n",
       "      <td>173</td>\n",
       "      <td>Pickering</td>\n",
       "      <td>Burnham</td>\n",
       "      <td>Unknown</td>\n",
       "    </tr>\n",
       "    <tr>\n",
       "      <th>14</th>\n",
       "      <td>197</td>\n",
       "      <td>McDowell</td>\n",
       "      <td>Leavitt</td>\n",
       "      <td>Unknown</td>\n",
       "    </tr>\n",
       "  </tbody>\n",
       "</table>\n",
       "</div>"
      ],
      "text/plain": [
       "     id    authors     surname   gender\n",
       "0    15     Walter  De la Mare        m\n",
       "1    24      Ernst    Heidrich        m\n",
       "2    31    William   Gladstone  Unknown\n",
       "3    35  Gxcxarard      Masson        m\n",
       "4    41     Gustav      Heider        m\n",
       "5    59  Alexander   MacGibbon  Unknown\n",
       "6    78    Wilhelm     Hasbach        m\n",
       "7    81     Arthur      Tanner        m\n",
       "8    93     Sidney      Colvin  Unknown\n",
       "9   102   Andrxcxa      Grabar        f\n",
       "10  112     Gloria     Goddard        f\n",
       "11  114     Walter  De la Mare        m\n",
       "12  135    William   Gladstone  Unknown\n",
       "13  173  Pickering     Burnham  Unknown\n",
       "14  197   McDowell     Leavitt  Unknown"
      ]
     },
     "execution_count": 13,
     "metadata": {},
     "output_type": "execute_result"
    }
   ],
   "source": [
    "dfs.head(15)"
   ]
  },
  {
   "cell_type": "code",
   "execution_count": null,
   "metadata": {
    "collapsed": false
   },
   "outputs": [],
   "source": [
    "#Useful stuff could be used later\n",
    "df.ix[df.authors == 'Authorities']\n"
   ]
  },
  {
   "cell_type": "code",
   "execution_count": 29,
   "metadata": {
    "collapsed": false
   },
   "outputs": [],
   "source": [
    "dfs.to_sql('gender_info_prob', engine)"
   ]
  },
  {
   "cell_type": "code",
   "execution_count": 30,
   "metadata": {
    "collapsed": false
   },
   "outputs": [
    {
     "data": {
      "text/plain": [
       "(931954, 4)"
      ]
     },
     "execution_count": 30,
     "metadata": {},
     "output_type": "execute_result"
    }
   ],
   "source": [
    "dfs.shape"
   ]
  },
  {
   "cell_type": "code",
   "execution_count": null,
   "metadata": {
    "collapsed": true
   },
   "outputs": [],
   "source": []
  }
 ],
 "metadata": {
  "kernelspec": {
   "display_name": "Python 2",
   "language": "python",
   "name": "python2"
  },
  "language_info": {
   "codemirror_mode": {
    "name": "ipython",
    "version": 2
   },
   "file_extension": ".py",
   "mimetype": "text/x-python",
   "name": "python",
   "nbconvert_exporter": "python",
   "pygments_lexer": "ipython2",
   "version": "2.7.11"
  }
 },
 "nbformat": 4,
 "nbformat_minor": 0
}
